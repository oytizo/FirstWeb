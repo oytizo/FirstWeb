{
  "nbformat": 4,
  "nbformat_minor": 0,
  "metadata": {
    "colab": {
      "name": "Untitled5.ipynb",
      "provenance": [],
      "collapsed_sections": [],
      "authorship_tag": "ABX9TyMmgrNnppXRtq6YN+RjwChJ",
      "include_colab_link": true
    },
    "kernelspec": {
      "name": "python3",
      "display_name": "Python 3"
    }
  },
  "cells": [
    {
      "cell_type": "markdown",
      "metadata": {
        "id": "view-in-github",
        "colab_type": "text"
      },
      "source": [
        "<a href=\"https://colab.research.google.com/github/oytizo/FirstWeb/blob/master/Untitled5.ipynb\" target=\"_parent\"><img src=\"https://colab.research.google.com/assets/colab-badge.svg\" alt=\"Open In Colab\"/></a>"
      ]
    },
    {
      "cell_type": "code",
      "metadata": {
        "id": "O_Kn818soP64"
      },
      "source": [
        "import numpy as np"
      ],
      "execution_count": 4,
      "outputs": []
    },
    {
      "cell_type": "code",
      "metadata": {
        "id": "Utnx2bVGtTxz"
      },
      "source": [
        ""
      ],
      "execution_count": null,
      "outputs": []
    },
    {
      "cell_type": "code",
      "metadata": {
        "id": "6DvnOvshpXNr",
        "outputId": "2ca62878-6a2b-4db1-c4a9-aeb35e3e940e",
        "colab": {
          "base_uri": "https://localhost:8080/"
        }
      },
      "source": [
        "w0=.8\n",
        "w1=.7\n",
        "w2=.7\n",
        "alpha=.01\n",
        "m=5\n",
        "n=0\n",
        "a=0\n",
        "b=0\n",
        "c=0\n",
        "#x1=np.array([2014,2015,2017,2018,2019])\n",
        "x1=np.array([1234,1200,1300,1350,1320])\n",
        "y=np.array([665,560,768,820,813])\n",
        "hypo=w0+(w1*1400)+(w2*(1400**2))\n",
        "print(hypo)"
      ],
      "execution_count": 5,
      "outputs": [
        {
          "output_type": "stream",
          "text": [
            "1372980.8\n"
          ],
          "name": "stdout"
        }
      ]
    },
    {
      "cell_type": "code",
      "metadata": {
        "id": "bik0sX92pobw",
        "outputId": "ed98ae8e-3168-48ba-b231-8bd402208c5c",
        "colab": {
          "base_uri": "https://localhost:8080/"
        }
      },
      "source": [
        "w0=.8\n",
        "w1=.7\n",
        "w2=.7\n",
        "alpha=.01\n",
        "n=0\n",
        "while n<1:\n",
        "  sqr_x1=np.square(x1)\n",
        "  #print(sqr_x1)\n",
        "  rd=w2*sqr_x1\n",
        "  nd=w1*x1\n",
        "  hypothisis=w0+rd+nd\n",
        "  #print(hypothisis)\n",
        "  loss=hypothisis-y\n",
        "  #print(loss)\n",
        "  sqr_loss=loss**2\n",
        "  #print(sqr_loss)\n",
        "  total_sqr_loss=np.sum(sqr_loss)\n",
        "  cost=total_sqr_loss/(2*m)\n",
        "  #print(cost)\n",
        "  loss0=np.sum(loss)\n",
        "  err_w0=w0-((alpha*loss0)/5)\n",
        "  loss1=loss*x1\n",
        "  s_loss1=np.sum(loss1)\n",
        "  err_w1=w1-((alpha*s_loss1)/5)\n",
        "  #print(err_w1)\n",
        "  loss2=loss*sqr_x1\n",
        "  s_loss2=np.sum(loss2)\n",
        "  #print(loss2)\n",
        "  err_w2=w2-((alpha*s_loss2)/5)\n",
        "  #print(err_w2)\n",
        "  w0=err_w0\n",
        "  w1=err_w1\n",
        "  w2=err_w2\n",
        "  n=n+1\n",
        "print(w0,w1,w2)\n",
        "print(cost)"
      ],
      "execution_count": 8,
      "outputs": [
        {
          "output_type": "stream",
          "text": [
            "-11505.640000000001 -14792365.390400002 -19051077176.8856\n",
            "666883876740.28\n"
          ],
          "name": "stdout"
        }
      ]
    },
    {
      "cell_type": "code",
      "metadata": {
        "id": "mWv119ytvgdh",
        "outputId": "b10bfad9-bd21-4761-a219-2f5085b3132c",
        "colab": {
          "base_uri": "https://localhost:8080/",
          "height": 35
        }
      },
      "source": [
        "hypo=w0+(w1*140000)+(w2*(140000*140000))\n",
        "print(hypo)"
      ],
      "execution_count": null,
      "outputs": [
        {
          "output_type": "stream",
          "text": [
            "-1.0546110490211369e+32\n"
          ],
          "name": "stdout"
        }
      ]
    },
    {
      "cell_type": "code",
      "metadata": {
        "id": "Xf43cygjnNwd",
        "outputId": "2750eee5-97c1-44a3-835b-c19aa852a6c4",
        "colab": {
          "base_uri": "https://localhost:8080/",
          "height": 54
        }
      },
      "source": [
        "avg_x1=np.average(x1)\n",
        "sqr_x=x1*x1\n",
        "avg_sqr_x1=np.average(sqr_x)\n",
        "avg_y=np.average(y)\n",
        "x1y=x1*y\n",
        "avg_x1y=np.average(x1y)\n",
        "slobe=((avg_x1*avg_y)-avg_x1y)/((avg_x1*avg_x1)-avg_sqr_x1)\n",
        "print(slobe)\n",
        "c=avg_y-(slobe*avg_x1)\n",
        "hyp=(slobe*140000)-c\n",
        "print(hyp)"
      ],
      "execution_count": null,
      "outputs": [
        {
          "output_type": "stream",
          "text": [
            "1.7510900031142522\n",
            "246670.19651198405\n"
          ],
          "name": "stdout"
        }
      ]
    },
    {
      "cell_type": "code",
      "metadata": {
        "id": "LNVRXo2msX7I",
        "outputId": "55acbaf1-1b9b-4652-b74e-63e0acec2f29",
        "colab": {
          "base_uri": "https://localhost:8080/",
          "height": 246
        }
      },
      "source": [
        "sqr_x1=np.square(x1)\n",
        "#print(sqr_x1)\n",
        "rd=w2*sqr_x1\n",
        "nd=w1*x1\n",
        "hypothisis=w0+rd+nd\n",
        "#print(hypothisis)\n",
        "loss=hypothisis-y\n",
        "#print(loss)\n",
        "sqr_loss=loss*loss\n",
        "#print(sqr_loss)\n",
        "total_sqr_loss=np.sum(sqr_loss)\n",
        "cost=total_sqr_loss/(2*m)\n",
        "#print(cost)\n",
        "loss1=loss*x1[0]\n",
        "err_w1=w1-((.01*np.sum(loss1))/m)\n",
        "print(err_w1)\n",
        "loss2=loss*x1[1]\n",
        "err_w2=w2-((.01*np.sum(loss2))/m)\n",
        "print(err_w2)\n",
        "loss0=np.sum(loss)\n",
        "err_w0=w0-(.01*loss0)/m\n",
        "print(err_w0)"
      ],
      "execution_count": null,
      "outputs": [
        {
          "output_type": "error",
          "ename": "NameError",
          "evalue": "ignored",
          "traceback": [
            "\u001b[0;31m---------------------------------------------------------------------------\u001b[0m",
            "\u001b[0;31mNameError\u001b[0m                                 Traceback (most recent call last)",
            "\u001b[0;32m<ipython-input-1-eff76dae6990>\u001b[0m in \u001b[0;36m<module>\u001b[0;34m()\u001b[0m\n\u001b[0;32m----> 1\u001b[0;31m \u001b[0msqr_x1\u001b[0m\u001b[0;34m=\u001b[0m\u001b[0mnp\u001b[0m\u001b[0;34m.\u001b[0m\u001b[0msquare\u001b[0m\u001b[0;34m(\u001b[0m\u001b[0mx1\u001b[0m\u001b[0;34m)\u001b[0m\u001b[0;34m\u001b[0m\u001b[0;34m\u001b[0m\u001b[0m\n\u001b[0m\u001b[1;32m      2\u001b[0m \u001b[0;31m#print(sqr_x1)\u001b[0m\u001b[0;34m\u001b[0m\u001b[0;34m\u001b[0m\u001b[0;34m\u001b[0m\u001b[0m\n\u001b[1;32m      3\u001b[0m \u001b[0mrd\u001b[0m\u001b[0;34m=\u001b[0m\u001b[0mw2\u001b[0m\u001b[0;34m*\u001b[0m\u001b[0msqr_x1\u001b[0m\u001b[0;34m\u001b[0m\u001b[0;34m\u001b[0m\u001b[0m\n\u001b[1;32m      4\u001b[0m \u001b[0mnd\u001b[0m\u001b[0;34m=\u001b[0m\u001b[0mw1\u001b[0m\u001b[0;34m*\u001b[0m\u001b[0mx1\u001b[0m\u001b[0;34m\u001b[0m\u001b[0;34m\u001b[0m\u001b[0m\n\u001b[1;32m      5\u001b[0m \u001b[0mhypothisis\u001b[0m\u001b[0;34m=\u001b[0m\u001b[0mw0\u001b[0m\u001b[0;34m+\u001b[0m\u001b[0mrd\u001b[0m\u001b[0;34m+\u001b[0m\u001b[0mnd\u001b[0m\u001b[0;34m\u001b[0m\u001b[0;34m\u001b[0m\u001b[0m\n",
            "\u001b[0;31mNameError\u001b[0m: name 'np' is not defined"
          ]
        }
      ]
    }
  ]
}