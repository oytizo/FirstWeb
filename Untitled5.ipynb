{
  "nbformat": 4,
  "nbformat_minor": 0,
  "metadata": {
    "colab": {
      "name": "Untitled5.ipynb",
      "provenance": [],
      "collapsed_sections": [],
      "authorship_tag": "ABX9TyOCYVPZcMIwWL1wrB0QvgLX",
      "include_colab_link": true
    },
    "kernelspec": {
      "name": "python3",
      "display_name": "Python 3"
    }
  },
  "cells": [
    {
      "cell_type": "markdown",
      "metadata": {
        "id": "view-in-github",
        "colab_type": "text"
      },
      "source": [
        "<a href=\"https://colab.research.google.com/github/oytizo/FirstWeb/blob/master/Untitled5.ipynb\" target=\"_parent\"><img src=\"https://colab.research.google.com/assets/colab-badge.svg\" alt=\"Open In Colab\"/></a>"
      ]
    },
    {
      "cell_type": "code",
      "metadata": {
        "id": "O_Kn818soP64"
      },
      "source": [
        "import numpy as np"
      ],
      "execution_count": 4,
      "outputs": []
    },
    {
      "cell_type": "code",
      "metadata": {
        "id": "Utnx2bVGtTxz"
      },
      "source": [
        ""
      ],
      "execution_count": null,
      "outputs": []
    },
    {
      "cell_type": "code",
      "metadata": {
        "id": "6DvnOvshpXNr",
        "outputId": "3411cee9-cc40-4b0b-98c1-9f0a2d467768",
        "colab": {
          "base_uri": "https://localhost:8080/"
        }
      },
      "source": [
        "w0=.8\n",
        "w1=.7\n",
        "w2=.7\n",
        "alpha=.01\n",
        "m=5\n",
        "n=0\n",
        "a=0\n",
        "b=0\n",
        "c=0\n",
        "#x1=np.array([2014,2015,2017,2018,2019])\n",
        "x1=np.array([1234,1200,1300,1350,1320])\n",
        "y=np.array([665,560,768,820,813])\n",
        "hypo=w0+(w1*1400)+(w2*(1400**2))\n",
        "print(hypo)"
      ],
      "execution_count": 10,
      "outputs": [
        {
          "output_type": "stream",
          "text": [
            "1372980.8\n"
          ],
          "name": "stdout"
        }
      ]
    },
    {
      "cell_type": "code",
      "metadata": {
        "id": "bik0sX92pobw",
        "outputId": "0ec20336-a8fc-44a0-ee06-7eadc7c3d8a3",
        "colab": {
          "base_uri": "https://localhost:8080/"
        }
      },
      "source": [
        "w0=.8\n",
        "w1=.7\n",
        "w2=.7\n",
        "alpha=.01\n",
        "n=0\n",
        "while n<3:\n",
        "  sqr_x1=np.square(x1)\n",
        "  #print(sqr_x1)\n",
        "  rd=w2*sqr_x1\n",
        "  nd=w1*x1\n",
        "  hypothisis=w0+rd+nd\n",
        "  #print(hypothisis)\n",
        "  loss=hypothisis-y\n",
        "  #print(loss)\n",
        "  sqr_loss=loss**2\n",
        "  #print(sqr_loss)\n",
        "  total_sqr_loss=np.sum(sqr_loss)\n",
        "  cost=total_sqr_loss/(2*m)\n",
        "  #print(cost)\n",
        "  loss0=np.sum(loss)\n",
        "  err_w0=w0-((alpha*loss0)/5)\n",
        "  loss1=loss*x1\n",
        "  s_loss1=np.sum(loss1)\n",
        "  err_w1=w1-((alpha*s_loss1)/5)\n",
        "  #print(err_w1)\n",
        "  loss2=loss*sqr_x1\n",
        "  s_loss2=np.sum(loss2)\n",
        "  #print(loss2)\n",
        "  err_w2=w2-((alpha*s_loss2)/5)\n",
        "  #print(err_w2)\n",
        "  w0=err_w0\n",
        "  w1=err_w1\n",
        "  w2=err_w2\n",
        "  n=n+1\n",
        "print(w0,w1,w2)\n",
        "print(cost)"
      ],
      "execution_count": 11,
      "outputs": [
        {
          "output_type": "stream",
          "text": [
            "-8.520339016336812e+24 -1.0953546008007823e+28 -1.4107101230262597e+31\n",
            "3.6566779128764196e+53\n"
          ],
          "name": "stdout"
        }
      ]
    }
  ]
}