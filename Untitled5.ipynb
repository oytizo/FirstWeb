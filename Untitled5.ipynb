{
  "nbformat": 4,
  "nbformat_minor": 0,
  "metadata": {
    "colab": {
      "name": "Untitled5.ipynb",
      "provenance": [],
      "collapsed_sections": [],
      "authorship_tag": "ABX9TyPpcop4qshz9GizbkF1lO5L",
      "include_colab_link": true
    },
    "kernelspec": {
      "name": "python3",
      "display_name": "Python 3"
    }
  },
  "cells": [
    {
      "cell_type": "markdown",
      "metadata": {
        "id": "view-in-github",
        "colab_type": "text"
      },
      "source": [
        "<a href=\"https://colab.research.google.com/github/oytizo/FirstWeb/blob/master/Untitled5.ipynb\" target=\"_parent\"><img src=\"https://colab.research.google.com/assets/colab-badge.svg\" alt=\"Open In Colab\"/></a>"
      ]
    },
    {
      "cell_type": "code",
      "metadata": {
        "id": "O_Kn818soP64"
      },
      "source": [
        "import numpy as np"
      ],
      "execution_count": 1,
      "outputs": []
    },
    {
      "cell_type": "code",
      "metadata": {
        "id": "Utnx2bVGtTxz"
      },
      "source": [
        ""
      ],
      "execution_count": null,
      "outputs": []
    },
    {
      "cell_type": "code",
      "metadata": {
        "id": "6DvnOvshpXNr",
        "outputId": "a84ee4f8-ad2e-4965-a2bd-3a03bc060de3",
        "colab": {
          "base_uri": "https://localhost:8080/"
        }
      },
      "source": [
        "w0=.1\n",
        "w1=.5\n",
        "w2=.0001\n",
        "m=5\n",
        "n=0\n",
        "a=0\n",
        "b=0\n",
        "c=0\n",
        "#x1=np.array([2014,2015,2017,2018,2019])\n",
        "x1=np.array([1234,1200,1300,1350,1320])\n",
        "y=np.array([665,560,768,820,813])\n",
        "hypo=w0+(w1*1400)+(w2*(1400**2))\n",
        "print(hypo)"
      ],
      "execution_count": 2,
      "outputs": [
        {
          "output_type": "stream",
          "text": [
            "896.1\n"
          ],
          "name": "stdout"
        }
      ]
    },
    {
      "cell_type": "code",
      "metadata": {
        "id": "bik0sX92pobw",
        "outputId": "f51b7233-9759-4774-80b5-dd70639167da",
        "colab": {
          "base_uri": "https://localhost:8080/"
        }
      },
      "source": [
        "w0=.1\n",
        "w1=.5\n",
        "w2=.0001\n",
        "alpha=.0000000000000001\n",
        "n=0\n",
        "while n<80000:\n",
        "  sqr_x1=np.square(x1)\n",
        "  #print(sqr_x1)\n",
        "  rd=w2*sqr_x1\n",
        "  nd=w1*x1\n",
        "  hypothisis=w0+rd+nd\n",
        "  #print(hypothisis)\n",
        "  loss=hypothisis-y\n",
        "  #print(loss)\n",
        "  sqr_loss=loss**2\n",
        "  #print(sqr_loss)\n",
        "  total_sqr_loss=np.sum(sqr_loss)\n",
        "  cost=total_sqr_loss/(2*m)\n",
        "  #print(cost)\n",
        "  loss0=np.sum(loss)\n",
        "  err_w0=w0-((alpha*loss0)/5)\n",
        "  loss1=loss*x1\n",
        "  s_loss1=np.sum(loss1)\n",
        "  err_w1=w1-((alpha*s_loss1)/5)\n",
        "  #print(err_w1)\n",
        "  loss2=loss*sqr_x1\n",
        "  s_loss2=np.sum(loss2)\n",
        "  #print(loss2)\n",
        "  err_w2=w2-((alpha*s_loss2)/5)\n",
        "  #print(err_w2)\n",
        "  w0=err_w0\n",
        "  w1=err_w1\n",
        "  w2=err_w2\n",
        "  n=n+1\n",
        "print(w0,w1,w2)\n",
        "print(cost)"
      ],
      "execution_count": 3,
      "outputs": [
        {
          "output_type": "stream",
          "text": [
            "0.09999999993046414 0.49999993812745774 5.4751110488069775e-05\n",
            "2139.0978597673216\n"
          ],
          "name": "stdout"
        }
      ]
    },
    {
      "cell_type": "code",
      "metadata": {
        "id": "mWv119ytvgdh",
        "outputId": "b10bfad9-bd21-4761-a219-2f5085b3132c",
        "colab": {
          "base_uri": "https://localhost:8080/",
          "height": 35
        }
      },
      "source": [
        "hypo=w0+(w1*140000)+(w2*(140000*140000))\n",
        "print(hypo)"
      ],
      "execution_count": null,
      "outputs": [
        {
          "output_type": "stream",
          "text": [
            "-1.0546110490211369e+32\n"
          ],
          "name": "stdout"
        }
      ]
    },
    {
      "cell_type": "code",
      "metadata": {
        "id": "Xf43cygjnNwd",
        "outputId": "2750eee5-97c1-44a3-835b-c19aa852a6c4",
        "colab": {
          "base_uri": "https://localhost:8080/",
          "height": 54
        }
      },
      "source": [
        "avg_x1=np.average(x1)\n",
        "sqr_x=x1*x1\n",
        "avg_sqr_x1=np.average(sqr_x)\n",
        "avg_y=np.average(y)\n",
        "x1y=x1*y\n",
        "avg_x1y=np.average(x1y)\n",
        "slobe=((avg_x1*avg_y)-avg_x1y)/((avg_x1*avg_x1)-avg_sqr_x1)\n",
        "print(slobe)\n",
        "c=avg_y-(slobe*avg_x1)\n",
        "hyp=(slobe*140000)-c\n",
        "print(hyp)"
      ],
      "execution_count": null,
      "outputs": [
        {
          "output_type": "stream",
          "text": [
            "1.7510900031142522\n",
            "246670.19651198405\n"
          ],
          "name": "stdout"
        }
      ]
    },
    {
      "cell_type": "code",
      "metadata": {
        "id": "LNVRXo2msX7I",
        "outputId": "55acbaf1-1b9b-4652-b74e-63e0acec2f29",
        "colab": {
          "base_uri": "https://localhost:8080/",
          "height": 246
        }
      },
      "source": [
        "sqr_x1=np.square(x1)\n",
        "#print(sqr_x1)\n",
        "rd=w2*sqr_x1\n",
        "nd=w1*x1\n",
        "hypothisis=w0+rd+nd\n",
        "#print(hypothisis)\n",
        "loss=hypothisis-y\n",
        "#print(loss)\n",
        "sqr_loss=loss*loss\n",
        "#print(sqr_loss)\n",
        "total_sqr_loss=np.sum(sqr_loss)\n",
        "cost=total_sqr_loss/(2*m)\n",
        "#print(cost)\n",
        "loss1=loss*x1[0]\n",
        "err_w1=w1-((.01*np.sum(loss1))/m)\n",
        "print(err_w1)\n",
        "loss2=loss*x1[1]\n",
        "err_w2=w2-((.01*np.sum(loss2))/m)\n",
        "print(err_w2)\n",
        "loss0=np.sum(loss)\n",
        "err_w0=w0-(.01*loss0)/m\n",
        "print(err_w0)"
      ],
      "execution_count": null,
      "outputs": [
        {
          "output_type": "error",
          "ename": "NameError",
          "evalue": "ignored",
          "traceback": [
            "\u001b[0;31m---------------------------------------------------------------------------\u001b[0m",
            "\u001b[0;31mNameError\u001b[0m                                 Traceback (most recent call last)",
            "\u001b[0;32m<ipython-input-1-eff76dae6990>\u001b[0m in \u001b[0;36m<module>\u001b[0;34m()\u001b[0m\n\u001b[0;32m----> 1\u001b[0;31m \u001b[0msqr_x1\u001b[0m\u001b[0;34m=\u001b[0m\u001b[0mnp\u001b[0m\u001b[0;34m.\u001b[0m\u001b[0msquare\u001b[0m\u001b[0;34m(\u001b[0m\u001b[0mx1\u001b[0m\u001b[0;34m)\u001b[0m\u001b[0;34m\u001b[0m\u001b[0;34m\u001b[0m\u001b[0m\n\u001b[0m\u001b[1;32m      2\u001b[0m \u001b[0;31m#print(sqr_x1)\u001b[0m\u001b[0;34m\u001b[0m\u001b[0;34m\u001b[0m\u001b[0;34m\u001b[0m\u001b[0m\n\u001b[1;32m      3\u001b[0m \u001b[0mrd\u001b[0m\u001b[0;34m=\u001b[0m\u001b[0mw2\u001b[0m\u001b[0;34m*\u001b[0m\u001b[0msqr_x1\u001b[0m\u001b[0;34m\u001b[0m\u001b[0;34m\u001b[0m\u001b[0m\n\u001b[1;32m      4\u001b[0m \u001b[0mnd\u001b[0m\u001b[0;34m=\u001b[0m\u001b[0mw1\u001b[0m\u001b[0;34m*\u001b[0m\u001b[0mx1\u001b[0m\u001b[0;34m\u001b[0m\u001b[0;34m\u001b[0m\u001b[0m\n\u001b[1;32m      5\u001b[0m \u001b[0mhypothisis\u001b[0m\u001b[0;34m=\u001b[0m\u001b[0mw0\u001b[0m\u001b[0;34m+\u001b[0m\u001b[0mrd\u001b[0m\u001b[0;34m+\u001b[0m\u001b[0mnd\u001b[0m\u001b[0;34m\u001b[0m\u001b[0;34m\u001b[0m\u001b[0m\n",
            "\u001b[0;31mNameError\u001b[0m: name 'np' is not defined"
          ]
        }
      ]
    }
  ]
}